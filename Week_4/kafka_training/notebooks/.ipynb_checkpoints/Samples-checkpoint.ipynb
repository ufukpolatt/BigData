{
 "cells": [
  {
   "cell_type": "code",
   "execution_count": 4,
   "id": "b53b15e2-67e6-4edb-ae00-1081796a7bb6",
   "metadata": {},
   "outputs": [],
   "source": [
    "from pykafka import KafkaClient\n",
    "\n",
    "client = KafkaClient(hosts=\"broker:29092\", broker_version=\"1.0.0\")\n",
    "\n",
    "#print(client.topics)\n",
    "\n",
    "\n",
    "topic = client.topics['my.test']\n",
    "\n",
    "with topic.get_sync_producer() as producer:\n",
    "    for i in range(4):\n",
    "        value = 'test message ' + str(i ** 2)\n",
    "        producer.produce(value.encode('utf-8'))"
   ]
  },
  {
   "cell_type": "code",
   "execution_count": 5,
   "id": "385c9332-b22f-4567-8293-6d38a9f2eb9c",
   "metadata": {},
   "outputs": [
    {
     "data": {
      "text/html": [
       "\n",
       "            <div>\n",
       "                <p><b>SparkSession - in-memory</b></p>\n",
       "                \n",
       "        <div>\n",
       "            <p><b>SparkContext</b></p>\n",
       "\n",
       "            <p><a href=\"http://58433811769f:4040\">Spark UI</a></p>\n",
       "\n",
       "            <dl>\n",
       "              <dt>Version</dt>\n",
       "                <dd><code>v3.5.1</code></dd>\n",
       "              <dt>Master</dt>\n",
       "                <dd><code>local</code></dd>\n",
       "              <dt>AppName</dt>\n",
       "                <dd><code>pyspark-shell</code></dd>\n",
       "            </dl>\n",
       "        </div>\n",
       "        \n",
       "            </div>\n",
       "        "
      ],
      "text/plain": [
       "<pyspark.sql.session.SparkSession at 0x7f503cc27f10>"
      ]
     },
     "execution_count": 5,
     "metadata": {},
     "output_type": "execute_result"
    }
   ],
   "source": [
    "\n",
    "import pyspark\n",
    "from pyspark.sql import SparkSession\n",
    "spark = SparkSession.builder.master(\"local\").getOrCreate()\n",
    "spark"
   ]
  },
  {
   "cell_type": "code",
   "execution_count": 2,
   "id": "1864777d-2aa3-44a3-9734-22dd8c38cb06",
   "metadata": {},
   "outputs": [
    {
     "name": "stdout",
     "output_type": "stream",
     "text": [
      "Collecting pykafka\n",
      "  Downloading pykafka-2.8.0.tar.gz (141 kB)\n",
      "\u001b[2K     \u001b[90m━━━━━━━━━━━━━━━━━━━━━━━━━━━━━━━━━━━━━━━\u001b[0m \u001b[32m141.6/141.6 kB\u001b[0m \u001b[31m1.3 MB/s\u001b[0m eta \u001b[36m0:00:00\u001b[0ma \u001b[36m0:00:01\u001b[0m\n",
      "\u001b[?25h  Preparing metadata (setup.py) ... \u001b[?25ldone\n",
      "\u001b[?25hRequirement already satisfied: six>=1.5 in /opt/conda/lib/python3.11/site-packages (from pykafka) (1.16.0)\n",
      "Collecting kazoo==2.5.0 (from pykafka)\n",
      "  Downloading kazoo-2.5.0-py2.py3-none-any.whl.metadata (30 kB)\n",
      "Collecting tabulate (from pykafka)\n",
      "  Downloading tabulate-0.9.0-py3-none-any.whl.metadata (34 kB)\n",
      "Downloading kazoo-2.5.0-py2.py3-none-any.whl (129 kB)\n",
      "\u001b[2K   \u001b[90m━━━━━━━━━━━━━━━━━━━━━━━━━━━━━━━━━━━━━━━━\u001b[0m \u001b[32m129.4/129.4 kB\u001b[0m \u001b[31m6.6 MB/s\u001b[0m eta \u001b[36m0:00:00\u001b[0m\n",
      "\u001b[?25hDownloading tabulate-0.9.0-py3-none-any.whl (35 kB)\n",
      "Building wheels for collected packages: pykafka\n",
      "  Building wheel for pykafka (setup.py) ... \u001b[?25ldone\n",
      "\u001b[?25h  Created wheel for pykafka: filename=pykafka-2.8.0-py2.py3-none-any.whl size=171501 sha256=953ab9edb3ca5f74ebb3d3ffaa4446a11121e154cd1082cbaa2a18912aab9755\n",
      "  Stored in directory: /home/jovyan/.cache/pip/wheels/07/0c/7f/247711e5bab3cf49fd9ebe8fb626c5e22a1b5f0a10a12e2add\n",
      "Successfully built pykafka\n",
      "Installing collected packages: tabulate, kazoo, pykafka\n",
      "Successfully installed kazoo-2.5.0 pykafka-2.8.0 tabulate-0.9.0\n"
     ]
    }
   ],
   "source": [
    "!pip install pykafka"
   ]
  },
  {
   "cell_type": "code",
   "execution_count": 6,
   "id": "fc62e6c6-a108-4d04-8b99-1e8b3f1425ea",
   "metadata": {},
   "outputs": [
    {
     "name": "stdout",
     "output_type": "stream",
     "text": [
      "/home/jovyan\n"
     ]
    }
   ],
   "source": [
    "!pwd"
   ]
  }
 ],
 "metadata": {
  "kernelspec": {
   "display_name": "Python 3 (ipykernel)",
   "language": "python",
   "name": "python3"
  },
  "language_info": {
   "codemirror_mode": {
    "name": "ipython",
    "version": 3
   },
   "file_extension": ".py",
   "mimetype": "text/x-python",
   "name": "python",
   "nbconvert_exporter": "python",
   "pygments_lexer": "ipython3",
   "version": "3.11.8"
  }
 },
 "nbformat": 4,
 "nbformat_minor": 5
}
